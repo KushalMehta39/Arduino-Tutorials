# Import necessary libraries
import pandas as pd

# Load CSV file
df = pd.read_csv('/content/PMSVC_Motor_RAW.csv')

# Define a function to convert HEX to the decimal value of rearranged bytes
def hex_to_decimal(hex_string):
    if pd.isna(hex_string):
        return None
    bytes_list = hex_string.split()
    if len(bytes_list) < 6:
        return None
    byte_5 = bytes_list[4]
    byte_6 = bytes_list[5]

    # Create the rearranged bytes string
    rearranged_bytes = byte_6 + byte_5
    # Convert the rearranged bytes to decimal
    decimal_value = int(rearranged_bytes, 16)
    return decimal_value

# Define the mapping for the 4th byte
mapping = {
    '1': 'given_freq',
    '2': 'output_freq',
    '3': 'output_current',
    '4': 'Input_voltage',
    '5': 'Output_voltage',
    '6': 'Mechanical_speed',
    '7': 'Given_torque',
    '8': 'Output_torque',
    '9': 'PID_given',
    'A': 'PID_feedback_value',
    'B': 'Output_power',
    'C': 'DC_Bus_voltage',
    'D': 'Module_temperature_1',
    'E': 'Module_temperature_2',
    'F': 'Input_terminal_X_is_on',
    '10': 'Input_terminal_Y_is_on',
    '11': 'Analog_AI1_input_value',
    '12': 'Analog_AI2_input_value',
    '13': 'Potentiometer_input_value',
    '14': 'Pulse_signal_PUL_input_value',
    '15': 'Analog_output_AO',
    '16': 'Reversed',
    '17': 'Counter_count_value',
    '18': 'Running_time_after_power_on',
    '19': 'Accumulated_running_time',
    '1A': 'Inverter_capacity',
    '1B': 'Rated_voltage',
    '1C': 'Rated_current',
    '1D': 'Software_version',
    '1E': 'Motor_temperature',
    '1F': 'Timer_time',
    '20': 'PID_output_value',
    '21': 'Inverter_SoftwareSub_Version',
    '22': 'Encoder_feedback_angle',
    '23': 'Z_pulse_cumulative_error',
    '24': 'Z_pulse_count',
    '25': 'Fault_warning_code',
    '26': 'Cumulative_Power_Consumption_lowlevel',
    '27': 'Cumulative_power_consumption_high_level',
    '28': 'Power_factor_angle'
}
# Define a function to extract value based on rule
def extract_value(hex_string, rule):
    if pd.isna(hex_string):
        return None
    bytes_list = hex_string.split()
    if len(bytes_list) < 4:
        return None
    byte_4 = bytes_list[3]
    if byte_4 == rule:
        byte_5 = bytes_list[4]
        byte_6 = bytes_list[5]
        rearranged_bytes = byte_6 + byte_5
        value = int(rearranged_bytes, 16)
        # Check if the rule requires division by 10
        if rule in ['3', '4', '5', '7', '8', '9', 'A', 'B', 'C', 'D', 'E']:
            value /= 10
        elif rule in ['1', '2']:
            value /= 100
        elif rule in ['11', '12', '14']:
            value /= 1000
        return value
    else:
        return None

# Apply the function for each rule and create columns
for rule in rules:
    column_name = mapping[rule]
    df[column_name] = df['Data(HEX)'].apply(lambda x: extract_value(x, rule))

# Save the updated DataFrame to a new CSV file
df.to_csv('/content/final_output.csv', index=False)

# Display the updated DataFrame
df.head()

