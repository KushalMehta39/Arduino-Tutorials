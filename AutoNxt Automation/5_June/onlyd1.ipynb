{
  "nbformat": 4,
  "nbformat_minor": 0,
  "metadata": {
    "colab": {
      "provenance": []
    },
    "kernelspec": {
      "name": "python3",
      "display_name": "Python 3"
    },
    "language_info": {
      "name": "python"
    }
  },
  "cells": [
    {
      "cell_type": "code",
      "execution_count": 2,
      "metadata": {
        "id": "72CgiuQqYT8_"
      },
      "outputs": [],
      "source": [
        "import pandas as pd\n",
        "\n",
        "# Load the CSV file\n",
        "df = pd.read_csv('/content/motor temp 8.CSV')\n",
        "\n",
        "# Filter rows with 'Rx' in the 'Direction' column\n",
        "rx_rows = df[df['Direction'] == 'Rx']\n",
        "\n",
        "# Select only the required columns\n",
        "output = rx_rows[['Direction', 'Time', 'Data(HEX)']].copy()\n",
        "\n",
        "# Function to extract and rearrange the 5th and 6th bytes\n",
        "def extract_and_rearrange(data_hex):\n",
        "    try:\n",
        "        bytes_list = data_hex.split()\n",
        "        if len(bytes_list) < 6:\n",
        "            return None  # If there are not enough bytes, return None\n",
        "        byte_5 = bytes_list[4]\n",
        "        byte_6 = bytes_list[5]\n",
        "        rearranged_bytes = byte_6 + byte_5\n",
        "        return rearranged_bytes\n",
        "    except:\n",
        "        return None\n",
        "\n",
        "# Function to convert rearranged bytes to decimal\n",
        "def convert_to_decimal(rearranged_bytes):\n",
        "    try:\n",
        "        return int(rearranged_bytes, 16)\n",
        "    except:\n",
        "        return None\n",
        "\n",
        "# Apply the functions to the 'Data(HEX)' column\n",
        "output['RearrangedBytes'] = output['Data(HEX)'].apply(extract_and_rearrange)\n",
        "output['DecimalValue'] = output['RearrangedBytes'].apply(convert_to_decimal)\n",
        "\n",
        "# Save the output to a new CSV file\n",
        "output.to_csv('temp8.csv', index=False)\n"
      ]
    }
  ]
}